{
 "cells": [
  {
   "cell_type": "markdown",
   "id": "1afd2dd4",
   "metadata": {},
   "source": [
    "# Data Science Tools and Ecosystem"
   ]
  },
  {
   "cell_type": "markdown",
   "id": "601fde4a",
   "metadata": {},
   "source": [
    "In this notebook, Data Science Tools and Ecosystem are summerized."
   ]
  },
  {
   "cell_type": "markdown",
   "id": "c247e00e",
   "metadata": {},
   "source": [
    "Some of the popular languages that Data Scientists use are:\n",
    "1. Python\n",
    "2. R\n",
    "3. Scala"
   ]
  },
  {
   "cell_type": "markdown",
   "id": "1984e773",
   "metadata": {},
   "source": [
    "Some of the commonly used libraries used by Data Scientists include:\n",
    "1. NumPy\n",
    "2. Pandas\n",
    "3. ggplot"
   ]
  },
  {
   "cell_type": "markdown",
   "id": "0652fb65",
   "metadata": {},
   "source": [
    "| Data Science Tools |\n",
    "|---------------|\n",
    "|JupyterLab|\n",
    "|VS Code|\n",
    "|GoogleColaboratory|"
   ]
  },
  {
   "cell_type": "markdown",
   "id": "ac86f048",
   "metadata": {},
   "source": [
    "### Below are a few examples of evaluating arithmetic expressions in Python"
   ]
  },
  {
   "cell_type": "code",
   "execution_count": 2,
   "id": "90f2ebd8",
   "metadata": {},
   "outputs": [
    {
     "data": {
      "text/plain": [
       "17"
      ]
     },
     "execution_count": 2,
     "metadata": {},
     "output_type": "execute_result"
    }
   ],
   "source": [
    "#  This a simple arithmetic expression to mutiply then add integers\n",
    "(3*4)+5"
   ]
  },
  {
   "cell_type": "code",
   "execution_count": 4,
   "id": "79d897c7",
   "metadata": {},
   "outputs": [
    {
     "name": "stdout",
     "output_type": "stream",
     "text": [
      "3.3333333333333335\n"
     ]
    }
   ],
   "source": [
    "# This will convert 200 minutes to hours by diving by 60\n",
    "minutes = 200\n",
    "hours = minutes/60\n",
    "print(hours)"
   ]
  },
  {
   "cell_type": "markdown",
   "id": "f12867d5",
   "metadata": {},
   "source": [
    "**Objectives:**\n",
    "+ Creating a notebook and renaming it\n",
    "+ Listing popular languages used in data science\n",
    "+ Listing popular libraries used in data science\n",
    "+ Using Markdown in Jupyter Notebooks\n",
    "+ Performing arithmetics in Jupyter Notebook"
   ]
  },
  {
   "cell_type": "markdown",
   "id": "f4de4219",
   "metadata": {},
   "source": [
    "## Author\n",
    "Hussein Mounzer"
   ]
  },
  {
   "cell_type": "code",
   "execution_count": null,
   "id": "15ed0f74",
   "metadata": {},
   "outputs": [],
   "source": []
  }
 ],
 "metadata": {
  "kernelspec": {
   "display_name": "Python 3 (ipykernel)",
   "language": "python",
   "name": "python3"
  },
  "language_info": {
   "codemirror_mode": {
    "name": "ipython",
    "version": 3
   },
   "file_extension": ".py",
   "mimetype": "text/x-python",
   "name": "python",
   "nbconvert_exporter": "python",
   "pygments_lexer": "ipython3",
   "version": "3.10.9"
  }
 },
 "nbformat": 4,
 "nbformat_minor": 5
}
